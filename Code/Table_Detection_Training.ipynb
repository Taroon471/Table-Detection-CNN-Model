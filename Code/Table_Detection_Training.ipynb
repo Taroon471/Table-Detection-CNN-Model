{
  "nbformat": 4,
  "nbformat_minor": 0,
  "metadata": {
    "colab": {
      "provenance": []
    },
    "kernelspec": {
      "name": "python3",
      "display_name": "Python 3"
    },
    "language_info": {
      "name": "python"
    }
  },
  "cells": [
    {
      "cell_type": "code",
      "source": [
        "import zipfile\n",
        "import os\n",
        "\n",
        "zip_path = \"/content/drive/My Drive/archive.zip\"  # Update if needed\n",
        "extract_path = \"/content/sample_data/ML_DATA\"\n",
        "\n",
        "os.makedirs(extract_path, exist_ok=True)\n",
        "\n",
        "with zipfile.ZipFile(zip_path, 'r') as zip_ref:\n",
        "    zip_ref.extractall(extract_path)\n",
        "\n",
        "print(\"Extraction completed!\")"
      ],
      "metadata": {
        "colab": {
          "base_uri": "https://localhost:8080/"
        },
        "id": "f3lzqIPiws6o",
        "outputId": "f1470d47-d9d3-4171-e5fb-a8453cba30ad"
      },
      "execution_count": null,
      "outputs": [
        {
          "output_type": "stream",
          "name": "stdout",
          "text": [
            "Extraction completed!\n"
          ]
        }
      ]
    },
    {
      "cell_type": "code",
      "source": [],
      "metadata": {
        "colab": {
          "base_uri": "https://localhost:8080/"
        },
        "id": "6WBwonTkyGVC",
        "outputId": "5dd74004-e6c3-482b-acc2-e06aece8749d"
      },
      "execution_count": null,
      "outputs": [
        {
          "output_type": "stream",
          "name": "stderr",
          "text": [
            "WARNING:absl:Compiled the loaded model, but the compiled metrics have yet to be built. `model.compile_metrics` will be empty until you train or evaluate the model.\n"
          ]
        }
      ]
    },
    {
      "cell_type": "code",
      "source": [
        "from pdf2image import convert_from_path\n",
        "import numpy as np"
      ],
      "metadata": {
        "id": "dyVK315MySf6"
      },
      "execution_count": null,
      "outputs": []
    },
    {
      "cell_type": "code",
      "source": [
        "def pdf_to_images(pdf_path):\n",
        "    # Convert PDF to a list of images (one image per page)\n",
        "    images = convert_from_path(pdf_path)\n",
        "    return images\n",
        "def preprocess_image(img, target_size=(128, 128)):\n",
        "    img_resized = img.resize(target_size)\n",
        "    img_array = np.array(img_resized) / 255.0  # Normalize to [0, 1]\n",
        "    return np.expand_dims(img_array, axis=0)\n",
        "from tensorflow.keras.models import load_model\n",
        "# Load the model\n",
        "model = load_model('/content/drive/My Drive/table_detection_model.h5')"
      ],
      "metadata": {
        "colab": {
          "base_uri": "https://localhost:8080/"
        },
        "id": "HBpXslNhO4iE",
        "outputId": "d63956f8-6c0f-4792-95bb-bafc45da703e"
      },
      "execution_count": null,
      "outputs": [
        {
          "output_type": "stream",
          "name": "stderr",
          "text": [
            "WARNING:absl:Compiled the loaded model, but the compiled metrics have yet to be built. `model.compile_metrics` will be empty until you train or evaluate the model.\n"
          ]
        }
      ]
    },
    {
      "cell_type": "code",
      "source": [
        "def predict_bboxes_from_pdf(model, pdf_path):\n",
        "    images = pdf_to_images(pdf_path)\n",
        "    bboxes = []\n",
        "\n",
        "    for img in images:\n",
        "        img_array = preprocess_image(img)\n",
        "        bbox = model.predict(img_array)[0]  # Predict bounding box\n",
        "        bboxes.append(bbox)\n",
        "\n",
        "    return bboxes"
      ],
      "metadata": {
        "id": "unExxgKTPGgP"
      },
      "execution_count": null,
      "outputs": []
    },
    {
      "cell_type": "code",
      "source": [
        "def calculate_iou(pred_bbox, true_bbox):\n",
        "    # Calculate Intersection over Union (IoU) between two bounding boxes\n",
        "    x_min_pred, y_min_pred, x_max_pred, y_max_pred = pred_bbox\n",
        "    x_min_true, y_min_true, x_max_true, y_max_true = true_bbox\n",
        "\n",
        "    # Compute intersection area\n",
        "    inter_x_min = max(x_min_pred, x_min_true)\n",
        "    inter_y_min = max(y_min_pred, y_min_true)\n",
        "    inter_x_max = min(x_max_pred, x_max_true)\n",
        "    inter_y_max = min(y_max_pred, y_max_true)\n",
        "\n",
        "    # No intersection\n",
        "    if inter_x_min >= inter_x_max or inter_y_min >= inter_y_max:\n",
        "        return 0.0\n",
        "\n",
        "    intersection_area = (inter_x_max - inter_x_min) * (inter_y_max - inter_y_min)\n",
        "\n",
        "    # Compute union area\n",
        "    pred_area = (x_max_pred - x_min_pred) * (y_max_pred - y_min_pred)\n",
        "    true_area = (x_max_true - x_min_true) * (y_max_true - y_min_true)\n",
        "\n",
        "    union_area = pred_area + true_area - intersection_area\n",
        "\n",
        "    # Calculate IoU\n",
        "    iou = intersection_area / union_area\n",
        "    return iou\n"
      ],
      "metadata": {
        "id": "WD4PR4g2PJVs"
      },
      "execution_count": null,
      "outputs": []
    },
    {
      "cell_type": "code",
      "source": [
        "import os\n",
        "import json\n",
        "import numpy as np\n",
        "import pandas as pd\n",
        "from PIL import Image\n",
        "import tensorflow as tf\n",
        "from pdf2image import convert_from_path\n",
        "\n",
        "# Load the trained model\n",
        "model = tf.keras.models.load_model('/content/drive/My Drive/table_detection_model.h5')\n",
        "\n",
        "# Convert PDF to images\n",
        "def pdf_to_images(pdf_path, output_folder):\n",
        "    images = convert_from_path(pdf_path)\n",
        "    if not os.path.exists(output_folder):\n",
        "        os.makedirs(output_folder)\n",
        "\n",
        "    for i, img in enumerate(images):\n",
        "        img_path = os.path.join(output_folder, f'page_{i+1}.jpg')\n",
        "        img.save(img_path, 'JPEG')\n",
        "        print(f\"Saved {img_path}\")\n",
        "\n",
        "# Preprocess image (resize and normalize)\n",
        "def preprocess_image(img_path, img_size=(128, 128)):\n",
        "    img = Image.open(img_path)\n",
        "    img = img.resize(img_size)\n",
        "    img_array = np.array(img) / 255.0  # Normalize to [0, 1]\n",
        "    return np.expand_dims(img_array, axis=0)  # Add batch dimension\n",
        "\n",
        "# Predict bounding boxes for each image\n",
        "def predict_bboxes(model, img_folder, output_csv):\n",
        "    results = []\n",
        "\n",
        "    for img_file in os.listdir(img_folder):\n",
        "        img_path = os.path.join(img_folder, img_file)\n",
        "\n",
        "        # Preprocess the image\n",
        "        img_array = preprocess_image(img_path)\n",
        "\n",
        "        # Predict bounding box\n",
        "        bbox = model.predict(img_array)[0]\n",
        "\n",
        "        # Save results\n",
        "        results.append({\n",
        "            'image': img_file,\n",
        "            'bbox': bbox.tolist()\n",
        "        })\n",
        "\n",
        "    # Save results to a CSV file\n",
        "    df = pd.DataFrame(results)\n",
        "    df.to_csv(output_csv, index=False)\n",
        "    print(f\"Results saved to {output_csv}\")\n",
        "\n",
        "# Step 1: Convert the PDF to images\n",
        "pdf_path = '/content/drive/My Drive/EX-99.pdf'  # Replace with your PDF file path\n",
        "output_folder = '/content/drive/My Drive/Predected_Data'  # Folder to save the images\n",
        "pdf_to_images(pdf_path, output_folder)\n",
        "\n",
        "# Step 2: Predict bounding boxes for the images\n",
        "output_csv = '/content/drive/My Drive/Predected_Data/output_bboxes.csv'  # Path to save the bounding box predictions\n",
        "predict_bboxes(model, output_folder, output_csv)\n"
      ],
      "metadata": {
        "colab": {
          "base_uri": "https://localhost:8080/"
        },
        "id": "hsh1MzgcQRdD",
        "outputId": "32bdaeeb-0ed1-4036-cf81-c759785f7bab"
      },
      "execution_count": null,
      "outputs": [
        {
          "output_type": "stream",
          "name": "stderr",
          "text": [
            "WARNING:absl:Compiled the loaded model, but the compiled metrics have yet to be built. `model.compile_metrics` will be empty until you train or evaluate the model.\n"
          ]
        },
        {
          "output_type": "stream",
          "name": "stdout",
          "text": [
            "Saved /content/drive/My Drive/Predected_Data/page_1.jpg\n",
            "Saved /content/drive/My Drive/Predected_Data/page_2.jpg\n",
            "Saved /content/drive/My Drive/Predected_Data/page_3.jpg\n",
            "Saved /content/drive/My Drive/Predected_Data/page_4.jpg\n",
            "Saved /content/drive/My Drive/Predected_Data/page_5.jpg\n",
            "Saved /content/drive/My Drive/Predected_Data/page_6.jpg\n",
            "Saved /content/drive/My Drive/Predected_Data/page_7.jpg\n",
            "Saved /content/drive/My Drive/Predected_Data/page_8.jpg\n",
            "Saved /content/drive/My Drive/Predected_Data/page_9.jpg\n",
            "Saved /content/drive/My Drive/Predected_Data/page_10.jpg\n",
            "\u001b[1m1/1\u001b[0m \u001b[32m━━━━━━━━━━━━━━━━━━━━\u001b[0m\u001b[37m\u001b[0m \u001b[1m0s\u001b[0m 207ms/step\n",
            "\u001b[1m1/1\u001b[0m \u001b[32m━━━━━━━━━━━━━━━━━━━━\u001b[0m\u001b[37m\u001b[0m \u001b[1m0s\u001b[0m 78ms/step\n",
            "\u001b[1m1/1\u001b[0m \u001b[32m━━━━━━━━━━━━━━━━━━━━\u001b[0m\u001b[37m\u001b[0m \u001b[1m0s\u001b[0m 51ms/step\n",
            "\u001b[1m1/1\u001b[0m \u001b[32m━━━━━━━━━━━━━━━━━━━━\u001b[0m\u001b[37m\u001b[0m \u001b[1m0s\u001b[0m 58ms/step\n",
            "\u001b[1m1/1\u001b[0m \u001b[32m━━━━━━━━━━━━━━━━━━━━\u001b[0m\u001b[37m\u001b[0m \u001b[1m0s\u001b[0m 47ms/step\n",
            "\u001b[1m1/1\u001b[0m \u001b[32m━━━━━━━━━━━━━━━━━━━━\u001b[0m\u001b[37m\u001b[0m \u001b[1m0s\u001b[0m 46ms/step\n",
            "\u001b[1m1/1\u001b[0m \u001b[32m━━━━━━━━━━━━━━━━━━━━\u001b[0m\u001b[37m\u001b[0m \u001b[1m0s\u001b[0m 46ms/step\n",
            "\u001b[1m1/1\u001b[0m \u001b[32m━━━━━━━━━━━━━━━━━━━━\u001b[0m\u001b[37m\u001b[0m \u001b[1m0s\u001b[0m 47ms/step\n",
            "\u001b[1m1/1\u001b[0m \u001b[32m━━━━━━━━━━━━━━━━━━━━\u001b[0m\u001b[37m\u001b[0m \u001b[1m0s\u001b[0m 77ms/step\n",
            "\u001b[1m1/1\u001b[0m \u001b[32m━━━━━━━━━━━━━━━━━━━━\u001b[0m\u001b[37m\u001b[0m \u001b[1m0s\u001b[0m 72ms/step\n",
            "Results saved to /content/drive/My Drive/Predected_Data/output_bboxes.csv\n"
          ]
        }
      ]
    }
  ]
}